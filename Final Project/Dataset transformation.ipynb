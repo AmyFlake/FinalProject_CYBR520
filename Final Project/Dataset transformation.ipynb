{
 "cells": [
  {
   "cell_type": "code",
   "execution_count": 2,
   "id": "ca22b005-ba6e-48a6-b060-b36df2f1d2d6",
   "metadata": {},
   "outputs": [
    {
     "name": "stdout",
     "output_type": "stream",
     "text": [
      "Modified dataset with encoded 'Attack Type' column saved to cybersecurity_attacks_encoded_updated.csv\n"
     ]
    }
   ],
   "source": [
    "import pandas as pd\n",
    "\n",
    "# Load the dataset\n",
    "file_path = 'cybersecurity_attacks_encoded.csv'  # Replace with the correct file path\n",
    "data = pd.read_csv(file_path)\n",
    "\n",
    "# Select the column to encode\n",
    "column_to_encode = 'Attack Type'  # Replace with the exact column name\n",
    "if column_to_encode in data.columns:\n",
    "    # Perform one-hot encoding\n",
    "    encoded_data = pd.get_dummies(data, columns=[column_to_encode], prefix=column_to_encode)\n",
    "\n",
    "    # Save the modified dataset\n",
    "    output_path = 'cybersecurity_attacks_encoded_updated.csv'  # New file name\n",
    "    encoded_data.to_csv(output_path, index=False)\n",
    "\n",
    "    print(f\"Modified dataset with encoded '{column_to_encode}' column saved to {output_path}\")\n",
    "else:\n",
    "    print(f\"Column '{column_to_encode}' not found in the dataset.\")"
   ]
  },
  {
   "cell_type": "code",
   "execution_count": 4,
   "id": "da486561-29f0-4b23-a1dc-8a5904b55a07",
   "metadata": {},
   "outputs": [
    {
     "name": "stdout",
     "output_type": "stream",
     "text": [
      "Modified dataset saved to cybersecurity_attacks_transformed.csv\n"
     ]
    }
   ],
   "source": [
    "import pandas as pd\n",
    "\n",
    "# Load the dataset\n",
    "file_path = 'cybersecurity_attacks_encoded_updated.csv'  # Replace with your actual file path\n",
    "data = pd.read_csv(file_path)\n",
    "\n",
    "# Modify the 'Geo-location Data' column\n",
    "data['Geo-location Data'] = data['Geo-location Data'].str.split(',').str[-1].str.strip()\n",
    "\n",
    "# Save the modified dataset\n",
    "output_path = 'cybersecurity_attacks_transformed.csv'  # New file name\n",
    "data.to_csv(output_path, index=False)\n",
    "\n",
    "print(f\"Modified dataset saved to {output_path}\")\n"
   ]
  },
  {
   "cell_type": "code",
   "execution_count": 5,
   "id": "c02c632e-41e7-4817-b83d-10c13a6bc626",
   "metadata": {},
   "outputs": [
    {
     "name": "stdout",
     "output_type": "stream",
     "text": [
      "Transformed dataset saved to cybersecurity_attacks_transformed_updated.csv\n"
     ]
    }
   ],
   "source": [
    "import pandas as pd\n",
    "\n",
    "# Load the dataset\n",
    "file_path = 'cybersecurity_attacks_transformed.csv'  # Replace with the correct file path\n",
    "data = pd.read_csv(file_path)\n",
    "\n",
    "# Transform the 'Malware Indicators' column to True/False based on \"IoC Detected\"\n",
    "if 'Malware Indicators' in data.columns:\n",
    "    data['IoC Detected'] = data['Malware Indicators'].astype(str).str.contains('IoC Detected', case=False, na=False)\n",
    "else:\n",
    "    print(\"Column 'Malware Indicators' not found in the dataset.\")\n",
    "\n",
    "# Transform the 'Alert Triggered' column to True/False based on whether it lists \"Alert Triggered\"\n",
    "if 'Alert Triggered' in data.columns:\n",
    "    data['Alert Present'] = data['Alert Triggered'].astype(str).str.contains('Alert Triggered', case=False, na=False)\n",
    "else:\n",
    "    print(\"Column 'Alert Triggered' not found in the dataset.\")\n",
    "\n",
    "# Save the modified dataset\n",
    "output_path = 'cybersecurity_attacks_transformed_updated.csv'\n",
    "data.to_csv(output_path, index=False)\n",
    "\n",
    "print(f\"Transformed dataset saved to {output_path}\")\n"
   ]
  },
  {
   "cell_type": "code",
   "execution_count": 6,
   "id": "fbb269d4-b3a6-4d03-99d1-710b6b798ae9",
   "metadata": {},
   "outputs": [
    {
     "name": "stdout",
     "output_type": "stream",
     "text": [
      "Transformed and cleaned dataset saved to cybersecurity_attacks_transformed_cleaned.csv\n"
     ]
    }
   ],
   "source": [
    "import pandas as pd\n",
    "\n",
    "# Load the dataset\n",
    "file_path = 'cybersecurity_attacks_transformed_updated.csv'  # Replace with the correct file path\n",
    "data = pd.read_csv(file_path)\n",
    "\n",
    "# Transform the 'Malware Indicators' column to True/False based on \"IoC Detected\"\n",
    "if 'Malware Indicators' in data.columns:\n",
    "    data['IoC Detected'] = data['Malware Indicators'].astype(str).str.contains('IoC Detected', case=False, na=False)\n",
    "    # Drop the original 'Malware Indicators' column\n",
    "    data.drop(columns=['Malware Indicators'], inplace=True)\n",
    "else:\n",
    "    print(\"Column 'Malware Indicators' not found in the dataset.\")\n",
    "\n",
    "# Transform the 'Alert Triggered' column to True/False based on whether it lists \"Alert Triggered\"\n",
    "if 'Alert Triggered' in data.columns:\n",
    "    data['Alert Present'] = data['Alert Triggered'].astype(str).str.contains('Alert Triggered', case=False, na=False)\n",
    "    # Drop the original 'Alert Triggered' column\n",
    "    data.drop(columns=['Alert Triggered'], inplace=True)\n",
    "else:\n",
    "    print(\"Column 'Alert Triggered' not found in the dataset.\")\n",
    "\n",
    "# Remove the 'Unnamed: 7' column if it exists\n",
    "if 'Unnamed: 7' in data.columns:\n",
    "    data.drop(columns=['Unnamed: 7'], inplace=True)\n",
    "\n",
    "# Save the modified dataset\n",
    "output_path = 'cybersecurity_attacks_transformed_cleaned.csv'\n",
    "data.to_csv(output_path, index=False)\n",
    "\n",
    "print(f\"Transformed and cleaned dataset saved to {output_path}\")\n"
   ]
  },
  {
   "cell_type": "code",
   "execution_count": null,
   "id": "a6aa58c8-fbcc-4529-9fee-f4765308dcc6",
   "metadata": {},
   "outputs": [],
   "source": []
  }
 ],
 "metadata": {
  "kernelspec": {
   "display_name": "Python 3.9 (pythonCYBR520)",
   "language": "python",
   "name": "pythoncybr520"
  },
  "language_info": {
   "codemirror_mode": {
    "name": "ipython",
    "version": 3
   },
   "file_extension": ".py",
   "mimetype": "text/x-python",
   "name": "python",
   "nbconvert_exporter": "python",
   "pygments_lexer": "ipython3",
   "version": "3.11.10"
  }
 },
 "nbformat": 4,
 "nbformat_minor": 5
}
